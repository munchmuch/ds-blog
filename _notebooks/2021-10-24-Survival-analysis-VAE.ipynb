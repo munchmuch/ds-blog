{
 "cells": [
  {
   "cell_type": "markdown",
   "metadata": {},
   "source": [
    "# Survival Analysis applied to Credit Card fraud \n",
    "> A \"gist\" for survival analysis combining techniques from multiple sources\n",
    "\n",
    "- toc: true\n",
    "- branch: master\n",
    "- badges: true\n",
    "- comments: true\n",
    "- author: Nazir Kamaldin\n",
    "- categories: [python, survival analysis, oversampling]"
   ]
  },
  {
   "cell_type": "code",
   "execution_count": null,
   "metadata": {},
   "outputs": [],
   "source": [
    "import pandas as pd\n",
    "from sklearn.model_selection import train_test_split\n",
    "from sklearn.preprocessing import StandardScaler\n",
    "from sklearn_pandas import DataFrameMapper\n",
    "\n",
    "from pycox.models import CoxTime\n",
    "\n",
    "random_state = 7"
   ]
  },
  {
   "cell_type": "markdown",
   "metadata": {},
   "source": [
    "The dataset that I'll be working on is taken from [Kaggle](https://www.kaggle.com/mlg-ulb/creditcardfraud). Since, the features of the dataset are a result of PCA, there's not much in terms of EDA we can do. "
   ]
  },
  {
   "cell_type": "code",
   "execution_count": null,
   "metadata": {},
   "outputs": [],
   "source": [
    "# Read dataset\n",
    "\n",
    "df = pd.read_csv(\"datasets/creditcard.csv\")\n",
    "df.head()"
   ]
  },
  {
   "cell_type": "markdown",
   "metadata": {},
   "source": [
    "Given its a case of credit card fraud, its highly likely that labels are imbalanced, let's check for that."
   ]
  },
  {
   "cell_type": "code",
   "execution_count": null,
   "metadata": {},
   "outputs": [],
   "source": [
    "df[\"Class\"].value_counts()"
   ]
  },
  {
   "cell_type": "markdown",
   "metadata": {},
   "source": [
    "Clearly the positive class which represents fraud examples is clearly lacking. Here we will be using novelty detection to take advantage of the number of negative examples."
   ]
  },
  {
   "cell_type": "markdown",
   "metadata": {},
   "source": [
    "## Dataset split"
   ]
  },
  {
   "cell_type": "code",
   "execution_count": null,
   "metadata": {},
   "outputs": [],
   "source": [
    "V_columns = [col for col in df.columns if col.startswith(\"V\")]\n",
    "feature_columns = V_columns + [\"Amount\"]\n",
    "label_column = \"Class\"\n",
    "\n",
    "X = df[feature_columns]\n",
    "y = df[label_column]\n",
    "\n",
    "negative_indices = y[y == 0].index\n",
    "positive_indices = y[y == 1].index\n",
    "\n",
    "X_neg = X.iloc[negative_indices, :]\n",
    "\n",
    "X_train, X_test = train_test_split(X_neg, test_size=0.2, random_state=random_state)\n",
    "X_train, X_val = train_test_split(X_train, test_size=0.3, random_state=random_state)\n",
    "\n",
    "print(f\"Dataset sizes, X_train: {len(X_train)}, X_val: {len(X_val)}, X_test: {len(X_test)}\")"
   ]
  },
  {
   "cell_type": "markdown",
   "metadata": {},
   "source": [
    "## Feature transformation"
   ]
  },
  {
   "cell_type": "code",
   "execution_count": null,
   "metadata": {},
   "outputs": [],
   "source": [
    "standardize = [([\"Amount\"], StandardScaler())]\n",
    "untouch = [(col, None) for col in V_columns]\n",
    "\n",
    "X_mapper = DataFrameMapper(untouch + standardize)"
   ]
  },
  {
   "cell_type": "code",
   "execution_count": null,
   "metadata": {},
   "outputs": [],
   "source": [
    "X_train = X_mapper.fit_transform(X_train).astype('float32')\n",
    "X_val = X_mapper.transform(X_val).astype('float32')\n",
    "X_test = X_mapper.transform(X_test).astype('float32')"
   ]
  },
  {
   "cell_type": "code",
   "execution_count": null,
   "metadata": {},
   "outputs": [],
   "source": []
  }
 ],
 "metadata": {
  "interpreter": {
   "hash": "fe7e89f1979efc3d537568278eb30b00de803aa3f933751a4147018739ec5779"
  },
  "kernelspec": {
   "display_name": "Python 3.8.12 64-bit ('ds_blog': conda)",
   "name": "python3"
  },
  "language_info": {
   "codemirror_mode": {
    "name": "ipython",
    "version": 3
   },
   "file_extension": ".py",
   "mimetype": "text/x-python",
   "name": "python",
   "nbconvert_exporter": "python",
   "pygments_lexer": "ipython3",
   "version": "3.8.12"
  },
  "orig_nbformat": 4
 },
 "nbformat": 4,
 "nbformat_minor": 2
}
